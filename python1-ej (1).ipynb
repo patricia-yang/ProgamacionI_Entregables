{
 "cells": [
  {
   "cell_type": "markdown",
   "metadata": {},
   "source": [
    "# <font color=olive> Ejercicio 1-1 </font> <span style=\"color:transparent\"> Ej1.1 </span>\n",
    "Este notebook te ayuda a realizar los ejercicios y realizar pruebas donde desees puesto que es independiente de sistema y sólo necesitas un editor que pueda interpretar notebooks de python. \n",
    "\n",
    "Un notebook está compuesto por celdas que puedes partir \"split cell\" en el menú \"Editar\" o en el pequeño menú simbólico de la celda atrriba a la derecha. Así mismo puedes añadir nuevas celdas en el menú \"Insert\" y puedes convertirlas en celdas de código o de texto o pussando en el tipo de celda (en la parte de abajo de la celda y a la derecha). También puedes crear nuevas celdas debajo de la celda. Eso lo puede hacer si vas con el ratón a la parte inferior central de la celda. Esta celda que estás leyendo es de tipo \"markdown\". Las celdas son ejecutables estando en la celda y pulsando shift-Enter. En la celdas markdown se interpreta el texto para interpretar el formato markdown y en las de código se ejecuta el código. Prueba a hace estas operaciones en este notebook. Si quieres añadir elementos de tipo markdown cuando añadas texto tienes un manual de markdown al que puedes acceder pulsando [aquí](https://tutorialmarkdown.com/guia).\n",
    "\n",
    "Cada vez que experimentes con una nueva característica, debes intentar cometer errores voluntariamente. Por ejemplo, en el programa \"Hello, World!\" del notebook de teoría, ¿qué sucede si se omite una de las comillas? ¿Y si omites ambas? ¿Qué pasa si deletreas mal la frase? ¿Qué sucede si escribe mal la instrucción _print_? Intenta interpretar qué está sucediendo.\n",
    "\n",
    "Este tipo de experimento te ayuda a recordar lo que lees; también te ayuda cuando estás programando, porque llegas a conocer el significado de los mensajes de error. Es mejor cometer errores ahora y a propósito que más tarde y accidentalmente.\n",
    "\n",
    "1. En una instrucción _print_, ¿qué sucede si se omite uno de los paréntesis, o ambos?"
   ]
  },
  {
   "cell_type": "code",
   "execution_count": 1,
   "metadata": {},
   "outputs": [
    {
     "ename": "SyntaxError",
     "evalue": "incomplete input (1359648919.py, line 1)",
     "output_type": "error",
     "traceback": [
      "\u001b[0;36m  Cell \u001b[0;32mIn[1], line 1\u001b[0;36m\u001b[0m\n\u001b[0;31m    print('Hello, World!'\u001b[0m\n\u001b[0m                         ^\u001b[0m\n\u001b[0;31mSyntaxError\u001b[0m\u001b[0;31m:\u001b[0m incomplete input\n"
     ]
    }
   ],
   "source": [
    "print('Hello, World!'"
   ]
  },
  {
   "cell_type": "markdown",
   "metadata": {},
   "source": [
    "2. Si está intentando imprimir una cadena, ¿qué sucede si omites una de las comillas, o ambas?"
   ]
  },
  {
   "cell_type": "code",
   "execution_count": 2,
   "metadata": {},
   "outputs": [
    {
     "ename": "SyntaxError",
     "evalue": "unterminated string literal (detected at line 1) (2146883031.py, line 1)",
     "output_type": "error",
     "traceback": [
      "\u001b[0;36m  Cell \u001b[0;32mIn[2], line 1\u001b[0;36m\u001b[0m\n\u001b[0;31m    print(Hello, World')\u001b[0m\n\u001b[0m                      ^\u001b[0m\n\u001b[0;31mSyntaxError\u001b[0m\u001b[0;31m:\u001b[0m unterminated string literal (detected at line 1)\n"
     ]
    }
   ],
   "source": [
    "print(Hello, World')"
   ]
  },
  {
   "cell_type": "markdown",
   "metadata": {},
   "source": [
    "3. Puedes usar un signo menos para hacer un número negativo como -2. ¿Qué pasa si pones un signo más antes de un número? ¿Qué tal 2++2, 2+-2 o 2++--2?"
   ]
  },
  {
   "cell_type": "code",
   "execution_count": 8,
   "metadata": {},
   "outputs": [
    {
     "data": {
      "text/plain": [
       "0"
      ]
     },
     "execution_count": 8,
     "metadata": {},
     "output_type": "execute_result"
    }
   ],
   "source": [
    "2+-2"
   ]
  },
  {
   "cell_type": "code",
   "execution_count": 9,
   "metadata": {},
   "outputs": [
    {
     "data": {
      "text/plain": [
       "4"
      ]
     },
     "execution_count": 9,
     "metadata": {},
     "output_type": "execute_result"
    }
   ],
   "source": [
    "2++2"
   ]
  },
  {
   "cell_type": "code",
   "execution_count": 10,
   "metadata": {},
   "outputs": [
    {
     "data": {
      "text/plain": [
       "4"
      ]
     },
     "execution_count": 10,
     "metadata": {},
     "output_type": "execute_result"
    }
   ],
   "source": [
    "2--2"
   ]
  },
  {
   "cell_type": "code",
   "execution_count": 11,
   "metadata": {},
   "outputs": [
    {
     "data": {
      "text/plain": [
       "4"
      ]
     },
     "execution_count": 11,
     "metadata": {},
     "output_type": "execute_result"
    }
   ],
   "source": [
    "2++--2"
   ]
  },
  {
   "cell_type": "markdown",
   "metadata": {},
   "source": [
    "4.  En notación matemática, los ceros a la izquierda están bien, como en 02. ¿Qué pasa si intentas esto en Python?"
   ]
  },
  {
   "cell_type": "code",
   "execution_count": 12,
   "metadata": {},
   "outputs": [
    {
     "ename": "SyntaxError",
     "evalue": "leading zeros in decimal integer literals are not permitted; use an 0o prefix for octal integers (2411615945.py, line 1)",
     "output_type": "error",
     "traceback": [
      "\u001b[0;36m  Cell \u001b[0;32mIn[12], line 1\u001b[0;36m\u001b[0m\n\u001b[0;31m    02\u001b[0m\n\u001b[0m    ^\u001b[0m\n\u001b[0;31mSyntaxError\u001b[0m\u001b[0;31m:\u001b[0m leading zeros in decimal integer literals are not permitted; use an 0o prefix for octal integers\n"
     ]
    }
   ],
   "source": [
    "02"
   ]
  },
  {
   "cell_type": "markdown",
   "metadata": {},
   "source": [
    "5.  ¿Qué pasa si tienes dos valores sin ningún operador entre ellos?"
   ]
  },
  {
   "cell_type": "code",
   "execution_count": 13,
   "metadata": {},
   "outputs": [
    {
     "ename": "SyntaxError",
     "evalue": "invalid syntax (2194459067.py, line 1)",
     "output_type": "error",
     "traceback": [
      "\u001b[0;36m  Cell \u001b[0;32mIn[13], line 1\u001b[0;36m\u001b[0m\n\u001b[0;31m    2 4\u001b[0m\n\u001b[0m      ^\u001b[0m\n\u001b[0;31mSyntaxError\u001b[0m\u001b[0;31m:\u001b[0m invalid syntax\n"
     ]
    }
   ],
   "source": [
    "2 4"
   ]
  },
  {
   "cell_type": "markdown",
   "metadata": {},
   "source": [
    "6.  Añade debajo todas las celdas que necesites para hacer tus pruebas y explica qué estás probando. Recuerda que tienes que ponerte alguna extensión de markdown en el visual studio code para leer correctamente estas celdas y poder añadir celdas explicativas. "
   ]
  },
  {
   "cell_type": "code",
   "execution_count": 18,
   "metadata": {},
   "outputs": [
    {
     "data": {
      "text/plain": [
       "1.0"
      ]
     },
     "execution_count": 18,
     "metadata": {},
     "output_type": "execute_result"
    }
   ],
   "source": [
    "2 /2"
   ]
  },
  {
   "cell_type": "markdown",
   "metadata": {},
   "source": [
    "Esttoy probando que pasa si dejo espacios entre los caracteres."
   ]
  },
  {
   "cell_type": "code",
   "execution_count": 20,
   "metadata": {},
   "outputs": [
    {
     "data": {
      "text/plain": [
       "(4, 4, 4)"
      ]
     },
     "execution_count": 20,
     "metadata": {},
     "output_type": "execute_result"
    }
   ],
   "source": [
    "2-+-+2, 2--2, 2+-+-2"
   ]
  },
  {
   "cell_type": "markdown",
   "metadata": {},
   "source": [
    "Estoy intentando averiguar cómo funciona la operacion -+-+. Da el mismo resultado que si ponemos --, por lo tanto -+-+=--=+-+-."
   ]
  },
  {
   "cell_type": "markdown",
   "metadata": {},
   "source": [
    "# <font color=olive> Ejercicio 1-2 </font> <span style=\"color:transparent\"> Ej1.2 </span>\n",
    "\n",
    "Vamos a empezar con algo muy simple, utilizando este _notebook_ como calculadora:\n",
    "\n",
    "1.  ¿Cuántos segundos hay en 42 minutos 42 segundos?"
   ]
  },
  {
   "cell_type": "code",
   "execution_count": 21,
   "metadata": {},
   "outputs": [
    {
     "data": {
      "text/plain": [
       "2562"
      ]
     },
     "execution_count": 21,
     "metadata": {},
     "output_type": "execute_result"
    }
   ],
   "source": [
    "42*60+42"
   ]
  },
  {
   "cell_type": "markdown",
   "metadata": {},
   "source": [
    "2.  ¿Cuántas millas hay en 10 kilómetros? Sugerencia: hay 1,61 kilómetros en una milla."
   ]
  },
  {
   "cell_type": "code",
   "execution_count": 23,
   "metadata": {},
   "outputs": [
    {
     "data": {
      "text/plain": [
       "6.211180124223602"
      ]
     },
     "execution_count": 23,
     "metadata": {},
     "output_type": "execute_result"
    }
   ],
   "source": [
    "10/1.61"
   ]
  },
  {
   "cell_type": "markdown",
   "metadata": {},
   "source": [
    "3. Si corres una carrera de 10 kilómetros en 42 minutos y 42 segundos, ¿cuál es tu ritmo promedio (tiempo por milla en minutos y segundos)? ¿Cuál es su velocidad media en millas por hora?"
   ]
  },
  {
   "cell_type": "code",
   "execution_count": 24,
   "metadata": {},
   "outputs": [
    {
     "data": {
      "text/plain": [
       "0.14546089283896022"
      ]
     },
     "execution_count": 24,
     "metadata": {},
     "output_type": "execute_result"
    }
   ],
   "source": [
    "(10/1.61)/(42+(42/60))"
   ]
  },
  {
   "cell_type": "code",
   "execution_count": 25,
   "metadata": {},
   "outputs": [
    {
     "data": {
      "text/plain": [
       "8.727653570337614"
      ]
     },
     "execution_count": 25,
     "metadata": {},
     "output_type": "execute_result"
    }
   ],
   "source": [
    "(10/1.61)/((42+(42/60))/60)"
   ]
  },
  {
   "cell_type": "markdown",
   "metadata": {},
   "source": [
    "# <font color=red> Copyright </font>\n",
    "\n",
    "$\\copyright$ Copyright 2012 Eloy Anguiano Rey - All rights reserved\n",
    "\n",
    "Queda expresamente prohibida la copia, distribución, modificación o cualquier otro uso de este documento sin permiso del autor."
   ]
  }
 ],
 "metadata": {
  "kernelspec": {
   "display_name": "Python 3",
   "language": "python",
   "name": "python3"
  },
  "language_info": {
   "codemirror_mode": {
    "name": "ipython",
    "version": 3
   },
   "file_extension": ".py",
   "mimetype": "text/x-python",
   "name": "python",
   "nbconvert_exporter": "python",
   "pygments_lexer": "ipython3",
   "version": "3.12.3"
  },
  "orig_nbformat": 4
 },
 "nbformat": 4,
 "nbformat_minor": 2
}
