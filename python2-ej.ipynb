{
 "cells": [
  {
   "cell_type": "markdown",
   "metadata": {},
   "source": [
    "# <font color=olive> Ejercicio 2-1 </font> <span style=\"color:transparent\"> Ej2.1 </span>\n",
    "\n",
    "Repitiendo mi consejo del tema anterior, cada vez que aprendas una nueva característica, deberías probarla en modo interactivo y cometer errores a propósito para ver qué sale mal. Ya que ahora conocemos la existencia de valiable.\n",
    "\n",
    "- Hemos visto que n = 42 es legal. ¿Qué tal 42 = n? ¿Qué es lo que pasa al hacerlo y por qué crees que es?"
   ]
  },
  {
   "cell_type": "code",
   "execution_count": 2,
   "metadata": {},
   "outputs": [
    {
     "ename": "NameError",
     "evalue": "name 'n' is not defined",
     "output_type": "error",
     "traceback": [
      "\u001b[0;31m---------------------------------------------------------------------------\u001b[0m",
      "\u001b[0;31mNameError\u001b[0m                                 Traceback (most recent call last)",
      "Cell \u001b[0;32mIn[2], line 1\u001b[0m\n\u001b[0;32m----> 1\u001b[0m \u001b[38;5;241m42\u001b[39m \u001b[38;5;241m==\u001b[39m \u001b[43mn\u001b[49m\n",
      "\u001b[0;31mNameError\u001b[0m: name 'n' is not defined"
     ]
    }
   ],
   "source": [
    "42 == n"
   ]
  },
  {
   "cell_type": "markdown",
   "metadata": {},
   "source": [
    "Ocurre porque no podemos iniciar una celda con un número."
   ]
  },
  {
   "cell_type": "code",
   "execution_count": 4,
   "metadata": {},
   "outputs": [],
   "source": [
    "n = 42"
   ]
  },
  {
   "cell_type": "markdown",
   "metadata": {},
   "source": [
    "- ¿Qué tal x = y = 1? Y lo de siempre, hazx las pruebas necesarias para saber qué está pasando. ¿Son x e y la misma variable?, ¿cómo podrías comprobarlo?"
   ]
  },
  {
   "cell_type": "code",
   "execution_count": 9,
   "metadata": {},
   "outputs": [
    {
     "name": "stdout",
     "output_type": "stream",
     "text": [
      "Si\n"
     ]
    }
   ],
   "source": [
    "x = y = 1\n",
    "x + y\n",
    "x / y\n",
    "if x is y:\n",
    "    print('Si')\n",
    "else:\n",
    "    print('No')"
   ]
  },
  {
   "cell_type": "markdown",
   "metadata": {},
   "source": [
    "- En algunos lenguajes cada afirmación termina con un punto y coma, ;. ¿Qué pasa si pones un punto y coma al final de una frase de Python?\n",
    "  "
   ]
  },
  {
   "cell_type": "code",
   "execution_count": 11,
   "metadata": {},
   "outputs": [
    {
     "ename": "SyntaxError",
     "evalue": "invalid syntax (3682835110.py, line 1)",
     "output_type": "error",
     "traceback": [
      "\u001b[0;36m  Cell \u001b[0;32mIn[11], line 1\u001b[0;36m\u001b[0m\n\u001b[0;31m    Hola mundo;\u001b[0m\n\u001b[0m         ^\u001b[0m\n\u001b[0;31mSyntaxError\u001b[0m\u001b[0;31m:\u001b[0m invalid syntax\n"
     ]
    }
   ],
   "source": [
    "Hola mundo;"
   ]
  },
  {
   "cell_type": "markdown",
   "metadata": {},
   "source": [
    "- ¿Qué pasa si pones un punto al final de la declaración de una variable?"
   ]
  },
  {
   "cell_type": "code",
   "execution_count": 13,
   "metadata": {},
   "outputs": [
    {
     "data": {
      "text/plain": [
       "43.0"
      ]
     },
     "execution_count": 13,
     "metadata": {},
     "output_type": "execute_result"
    }
   ],
   "source": [
    "n = 42.\n",
    "n + 1"
   ]
  },
  {
   "cell_type": "code",
   "execution_count": 17,
   "metadata": {},
   "outputs": [
    {
     "name": "stdout",
     "output_type": "stream",
     "text": [
      "OLE\n"
     ]
    }
   ],
   "source": [
    "edad == 25.\n",
    "if edad == 25.:\n",
    "    print('OLE')\n",
    "else:\n",
    "    print(':(')"
   ]
  },
  {
   "cell_type": "markdown",
   "metadata": {},
   "source": [
    "- En notación matemática puedes multiplicar x e y así: xy. ¿Qué pasa si lo intentas en Python?"
   ]
  },
  {
   "cell_type": "code",
   "execution_count": 18,
   "metadata": {},
   "outputs": [
    {
     "ename": "NameError",
     "evalue": "name 'xy' is not defined",
     "output_type": "error",
     "traceback": [
      "\u001b[0;31m---------------------------------------------------------------------------\u001b[0m",
      "\u001b[0;31mNameError\u001b[0m                                 Traceback (most recent call last)",
      "Cell \u001b[0;32mIn[18], line 1\u001b[0m\n\u001b[0;32m----> 1\u001b[0m \u001b[43mxy\u001b[49m\n",
      "\u001b[0;31mNameError\u001b[0m: name 'xy' is not defined"
     ]
    }
   ],
   "source": [
    "xy"
   ]
  },
  {
   "cell_type": "code",
   "execution_count": null,
   "metadata": {},
   "outputs": [],
   "source": [
    "no se puede realizar la operación sin el *"
   ]
  },
  {
   "cell_type": "markdown",
   "metadata": {},
   "source": [
    "# <font color=olive> Ejercicio 2-2 </font> <span style=\"color:transparent\"> Ej2.2 </span>\n",
    "\n",
    "Sigue practicando el uso del intérprete de Python como calculadora. Pero ahora que conoces las variables debes usarlas. El nombre de las variables, además, debe tener significado y pueden tener tantas letra como se desee pero no se pueden poner espacios en medio de la variable. Si quieres usar algo parecido usa en guión bajo \"_\".\n",
    "1.  El volumen de una esfera con radio r es $\\frac{4 \\pi}{3} r^3$. ¿Cuál es el volumen de una esfera con radio 5?"
   ]
  },
  {
   "cell_type": "code",
   "execution_count": 23,
   "metadata": {},
   "outputs": [
    {
     "data": {
      "text/plain": [
       "523.5987755982989"
      ]
     },
     "execution_count": 23,
     "metadata": {},
     "output_type": "execute_result"
    }
   ],
   "source": [
    "import math\n",
    "\n",
    "( (4 * math.pi) / 3 ) * 5**3"
   ]
  },
  {
   "cell_type": "markdown",
   "metadata": {},
   "source": [
    "2.  Supongamos que el precio de portada de un libro es de 24,95 €, pero las librerías tienen un descuento del 40 %. Gastos de envío 3 € por la primera copia y 75 céntimos por cada copia adicional. ¿Cuál es el costo total al por mayor de 60 copias?"
   ]
  },
  {
   "cell_type": "code",
   "execution_count": 24,
   "metadata": {},
   "outputs": [
    {
     "data": {
      "text/plain": [
       "62.22"
      ]
     },
     "execution_count": 24,
     "metadata": {},
     "output_type": "execute_result"
    }
   ],
   "source": [
    "24.95 - ( 40 * 24.95 / 100) + 3 + 0.75 * 59"
   ]
  },
  {
   "cell_type": "markdown",
   "metadata": {},
   "source": [
    "3.  Si salgo de mi casa a las 6:52 a.m. y corro 1 kilómetro a un ritmo tranquilo (8:15 minutos por kilómetro), luego 3 kilómetros a un ritmo algo más rápido (7:12 minutos por kilómetro) y 1 kilómetro a un ritmo tranquilo nuevamente, ¿a qué hora vuelvo a casa para desayunar?"
   ]
  },
  {
   "cell_type": "code",
   "execution_count": 51,
   "metadata": {},
   "outputs": [
    {
     "name": "stdout",
     "output_type": "stream",
     "text": [
      "450.1\n",
      "7.501666666666667\n",
      "30.0\n",
      "Vuelvo a casa para desayunar a las 7:30 a.m.\n"
     ]
    }
   ],
   "source": [
    "# Tramo 1, tiempo en minutos\n",
    "ritmo_tranquilo= 8 + 15 / 60\n",
    "\n",
    "# Tramo 2, tiempo en minutos\n",
    "ritmo_rápido= 3 * ( 7 + 12 / 60 )\n",
    "\n",
    "#Tramo 3, tiempo en minutos\n",
    "ritmo_tranquilo2= 8 + 15 / 60\n",
    "\n",
    "#Tiempo total\n",
    "tiempo_total_en_minutos= ritmo_tranquilo + ritmo_rápido + ritmo_tranquilo2\n",
    "tiempo_total_en_horas= tiempo_total_en_minutos / 60\n",
    "\n",
    "#Hora de salida\n",
    "minuto_de_salida = 6 * 60 + 52\n",
    "\n",
    "print(minuto_de_salida + tiempo_total_en_minutos)\n",
    "\n",
    "minuto_de_vuelta = minuto_de_salida + tiempo_total_en_minutos\n",
    "\n",
    "hora_de_vuelta = minuto_de_vuelta / 60\n",
    "\n",
    "minuto_de_llegada = 0.5 * 60\n",
    "\n",
    "print(hora_de_vuelta)\n",
    "\n",
    "print(minuto_de_llegada)\n",
    "\n",
    "print('Vuelvo a casa para desayunar a las ' + '7:30' + ' a.m.')\n"
   ]
  },
  {
   "cell_type": "markdown",
   "metadata": {},
   "source": [
    "# <font color=red> Copyright </font>\n",
    "\n",
    "$\\copyright$ Copyright 2012 Eloy Anguiano Rey - All rights reserved\n",
    "\n",
    "Queda expresamente prohibida la copia, distribución, modificación o cualquier otro uso de este documento sin permiso del autor."
   ]
  }
 ],
 "metadata": {
  "kernelspec": {
   "display_name": "Python 3",
   "language": "python",
   "name": "python3"
  },
  "language_info": {
   "codemirror_mode": {
    "name": "ipython",
    "version": 3
   },
   "file_extension": ".py",
   "mimetype": "text/x-python",
   "name": "python",
   "nbconvert_exporter": "python",
   "pygments_lexer": "ipython3",
   "version": "3.12.3"
  },
  "orig_nbformat": 4
 },
 "nbformat": 4,
 "nbformat_minor": 2
}
